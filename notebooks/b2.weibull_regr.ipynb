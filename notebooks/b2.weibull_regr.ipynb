{
 "cells": [
  {
   "cell_type": "code",
   "execution_count": 1,
   "id": "f9af087a",
   "metadata": {},
   "outputs": [],
   "source": [
    "import pandas as pd\n",
    "import numpy as np"
   ]
  },
  {
   "cell_type": "code",
   "execution_count": 2,
   "id": "ba91ca27",
   "metadata": {},
   "outputs": [],
   "source": [
    "from scipy import stats as sc_stats\n",
    "from sklearn.model_selection import train_test_split\n",
    "from sklearn.metrics import mean_squared_error"
   ]
  },
  {
   "cell_type": "code",
   "execution_count": 3,
   "id": "b36656a0",
   "metadata": {},
   "outputs": [
    {
     "name": "stderr",
     "output_type": "stream",
     "text": [
      "2023-04-23 09:59:40.246506: I tensorflow/core/platform/cpu_feature_guard.cc:193] This TensorFlow binary is optimized with oneAPI Deep Neural Network Library (oneDNN) to use the following CPU instructions in performance-critical operations:  SSE4.1 SSE4.2 AVX AVX2 FMA\n",
      "To enable them in other operations, rebuild TensorFlow with the appropriate compiler flags.\n"
     ]
    }
   ],
   "source": [
    "import tensorflow as tf"
   ]
  },
  {
   "cell_type": "code",
   "execution_count": 4,
   "id": "0f8c852b",
   "metadata": {},
   "outputs": [],
   "source": [
    "import sys\n",
    "from os.path import dirname\n",
    "sys.path.append(dirname(\"../\"))"
   ]
  },
  {
   "cell_type": "code",
   "execution_count": 5,
   "id": "15f3aaa7",
   "metadata": {},
   "outputs": [],
   "source": [
    "from src.weibull_edl import loss_and_layers"
   ]
  },
  {
   "cell_type": "code",
   "execution_count": 6,
   "id": "1d577c70",
   "metadata": {},
   "outputs": [],
   "source": [
    "import matplotlib.pyplot as plt"
   ]
  },
  {
   "cell_type": "code",
   "execution_count": 7,
   "id": "6c54dcf8",
   "metadata": {},
   "outputs": [],
   "source": [
    "%load_ext autoreload\n",
    "%autoreload 2"
   ]
  },
  {
   "cell_type": "markdown",
   "id": "87ca0a9d",
   "metadata": {},
   "source": [
    "### Read data"
   ]
  },
  {
   "cell_type": "code",
   "execution_count": 8,
   "id": "6619f5e5",
   "metadata": {},
   "outputs": [
    {
     "data": {
      "text/html": [
       "<div>\n",
       "<style scoped>\n",
       "    .dataframe tbody tr th:only-of-type {\n",
       "        vertical-align: middle;\n",
       "    }\n",
       "\n",
       "    .dataframe tbody tr th {\n",
       "        vertical-align: top;\n",
       "    }\n",
       "\n",
       "    .dataframe thead th {\n",
       "        text-align: right;\n",
       "    }\n",
       "</style>\n",
       "<table border=\"1\" class=\"dataframe\">\n",
       "  <thead>\n",
       "    <tr style=\"text-align: right;\">\n",
       "      <th></th>\n",
       "      <th>grade:A</th>\n",
       "      <th>grade:B</th>\n",
       "      <th>grade:C</th>\n",
       "      <th>grade:D</th>\n",
       "      <th>grade:E</th>\n",
       "      <th>grade:F</th>\n",
       "      <th>grade:G</th>\n",
       "      <th>home_ownership:MORTGAGE</th>\n",
       "      <th>home_ownership:NONE</th>\n",
       "      <th>home_ownership:OTHER</th>\n",
       "      <th>...</th>\n",
       "      <th>dti</th>\n",
       "      <th>delinq_2yrs</th>\n",
       "      <th>inq_last_6mths</th>\n",
       "      <th>mths_since_last_delinq</th>\n",
       "      <th>open_acc</th>\n",
       "      <th>pub_rec</th>\n",
       "      <th>total_acc</th>\n",
       "      <th>acc_now_delinq</th>\n",
       "      <th>recovery_rate</th>\n",
       "      <th>CCF</th>\n",
       "    </tr>\n",
       "    <tr>\n",
       "      <th>member_id</th>\n",
       "      <th></th>\n",
       "      <th></th>\n",
       "      <th></th>\n",
       "      <th></th>\n",
       "      <th></th>\n",
       "      <th></th>\n",
       "      <th></th>\n",
       "      <th></th>\n",
       "      <th></th>\n",
       "      <th></th>\n",
       "      <th></th>\n",
       "      <th></th>\n",
       "      <th></th>\n",
       "      <th></th>\n",
       "      <th></th>\n",
       "      <th></th>\n",
       "      <th></th>\n",
       "      <th></th>\n",
       "      <th></th>\n",
       "      <th></th>\n",
       "      <th></th>\n",
       "    </tr>\n",
       "  </thead>\n",
       "  <tbody>\n",
       "    <tr>\n",
       "      <th>1314167</th>\n",
       "      <td>0.0</td>\n",
       "      <td>0.0</td>\n",
       "      <td>1.0</td>\n",
       "      <td>0.0</td>\n",
       "      <td>0.0</td>\n",
       "      <td>0.0</td>\n",
       "      <td>0.0</td>\n",
       "      <td>0.0</td>\n",
       "      <td>0.0</td>\n",
       "      <td>0.0</td>\n",
       "      <td>...</td>\n",
       "      <td>1.00</td>\n",
       "      <td>0.0</td>\n",
       "      <td>5.0</td>\n",
       "      <td>0.0</td>\n",
       "      <td>3.0</td>\n",
       "      <td>0.0</td>\n",
       "      <td>4.0</td>\n",
       "      <td>0.0</td>\n",
       "      <td>0.046832</td>\n",
       "      <td>0.817416</td>\n",
       "    </tr>\n",
       "    <tr>\n",
       "      <th>1306957</th>\n",
       "      <td>0.0</td>\n",
       "      <td>0.0</td>\n",
       "      <td>0.0</td>\n",
       "      <td>0.0</td>\n",
       "      <td>0.0</td>\n",
       "      <td>1.0</td>\n",
       "      <td>0.0</td>\n",
       "      <td>0.0</td>\n",
       "      <td>0.0</td>\n",
       "      <td>0.0</td>\n",
       "      <td>...</td>\n",
       "      <td>5.55</td>\n",
       "      <td>0.0</td>\n",
       "      <td>2.0</td>\n",
       "      <td>0.0</td>\n",
       "      <td>11.0</td>\n",
       "      <td>0.0</td>\n",
       "      <td>13.0</td>\n",
       "      <td>0.0</td>\n",
       "      <td>0.033761</td>\n",
       "      <td>0.971068</td>\n",
       "    </tr>\n",
       "    <tr>\n",
       "      <th>1306721</th>\n",
       "      <td>0.0</td>\n",
       "      <td>1.0</td>\n",
       "      <td>0.0</td>\n",
       "      <td>0.0</td>\n",
       "      <td>0.0</td>\n",
       "      <td>0.0</td>\n",
       "      <td>0.0</td>\n",
       "      <td>0.0</td>\n",
       "      <td>0.0</td>\n",
       "      <td>0.0</td>\n",
       "      <td>...</td>\n",
       "      <td>18.08</td>\n",
       "      <td>0.0</td>\n",
       "      <td>0.0</td>\n",
       "      <td>0.0</td>\n",
       "      <td>2.0</td>\n",
       "      <td>0.0</td>\n",
       "      <td>3.0</td>\n",
       "      <td>0.0</td>\n",
       "      <td>0.050100</td>\n",
       "      <td>0.874701</td>\n",
       "    </tr>\n",
       "    <tr>\n",
       "      <th>1298717</th>\n",
       "      <td>0.0</td>\n",
       "      <td>0.0</td>\n",
       "      <td>1.0</td>\n",
       "      <td>0.0</td>\n",
       "      <td>0.0</td>\n",
       "      <td>0.0</td>\n",
       "      <td>0.0</td>\n",
       "      <td>0.0</td>\n",
       "      <td>0.0</td>\n",
       "      <td>0.0</td>\n",
       "      <td>...</td>\n",
       "      <td>10.08</td>\n",
       "      <td>0.0</td>\n",
       "      <td>1.0</td>\n",
       "      <td>0.0</td>\n",
       "      <td>4.0</td>\n",
       "      <td>0.0</td>\n",
       "      <td>9.0</td>\n",
       "      <td>0.0</td>\n",
       "      <td>0.049367</td>\n",
       "      <td>0.860429</td>\n",
       "    </tr>\n",
       "    <tr>\n",
       "      <th>1303503</th>\n",
       "      <td>0.0</td>\n",
       "      <td>1.0</td>\n",
       "      <td>0.0</td>\n",
       "      <td>0.0</td>\n",
       "      <td>0.0</td>\n",
       "      <td>0.0</td>\n",
       "      <td>0.0</td>\n",
       "      <td>0.0</td>\n",
       "      <td>0.0</td>\n",
       "      <td>0.0</td>\n",
       "      <td>...</td>\n",
       "      <td>7.06</td>\n",
       "      <td>0.0</td>\n",
       "      <td>2.0</td>\n",
       "      <td>0.0</td>\n",
       "      <td>14.0</td>\n",
       "      <td>0.0</td>\n",
       "      <td>29.0</td>\n",
       "      <td>0.0</td>\n",
       "      <td>0.064510</td>\n",
       "      <td>0.456653</td>\n",
       "    </tr>\n",
       "  </tbody>\n",
       "</table>\n",
       "<p>5 rows × 49 columns</p>\n",
       "</div>"
      ],
      "text/plain": [
       "           grade:A  grade:B  grade:C  grade:D  grade:E  grade:F  grade:G   \n",
       "member_id                                                                  \n",
       "1314167        0.0      0.0      1.0      0.0      0.0      0.0      0.0  \\\n",
       "1306957        0.0      0.0      0.0      0.0      0.0      1.0      0.0   \n",
       "1306721        0.0      1.0      0.0      0.0      0.0      0.0      0.0   \n",
       "1298717        0.0      0.0      1.0      0.0      0.0      0.0      0.0   \n",
       "1303503        0.0      1.0      0.0      0.0      0.0      0.0      0.0   \n",
       "\n",
       "           home_ownership:MORTGAGE  home_ownership:NONE  home_ownership:OTHER   \n",
       "member_id                                                                       \n",
       "1314167                        0.0                  0.0                   0.0  \\\n",
       "1306957                        0.0                  0.0                   0.0   \n",
       "1306721                        0.0                  0.0                   0.0   \n",
       "1298717                        0.0                  0.0                   0.0   \n",
       "1303503                        0.0                  0.0                   0.0   \n",
       "\n",
       "           ...    dti  delinq_2yrs  inq_last_6mths  mths_since_last_delinq   \n",
       "member_id  ...                                                               \n",
       "1314167    ...   1.00          0.0             5.0                     0.0  \\\n",
       "1306957    ...   5.55          0.0             2.0                     0.0   \n",
       "1306721    ...  18.08          0.0             0.0                     0.0   \n",
       "1298717    ...  10.08          0.0             1.0                     0.0   \n",
       "1303503    ...   7.06          0.0             2.0                     0.0   \n",
       "\n",
       "           open_acc  pub_rec  total_acc  acc_now_delinq  recovery_rate   \n",
       "member_id                                                                \n",
       "1314167         3.0      0.0        4.0             0.0       0.046832  \\\n",
       "1306957        11.0      0.0       13.0             0.0       0.033761   \n",
       "1306721         2.0      0.0        3.0             0.0       0.050100   \n",
       "1298717         4.0      0.0        9.0             0.0       0.049367   \n",
       "1303503        14.0      0.0       29.0             0.0       0.064510   \n",
       "\n",
       "                CCF  \n",
       "member_id            \n",
       "1314167    0.817416  \n",
       "1306957    0.971068  \n",
       "1306721    0.874701  \n",
       "1298717    0.860429  \n",
       "1303503    0.456653  \n",
       "\n",
       "[5 rows x 49 columns]"
      ]
     },
     "execution_count": 8,
     "metadata": {},
     "output_type": "execute_result"
    }
   ],
   "source": [
    "df_clean = pd.read_csv(\"../data/data_preprocessed_v0.csv\",index_col=0)\n",
    "df_clean.head()"
   ]
  },
  {
   "cell_type": "code",
   "execution_count": 9,
   "id": "328f4195",
   "metadata": {},
   "outputs": [],
   "source": [
    "y_cols = [\"recovery_rate\",\"CCF\"]"
   ]
  },
  {
   "cell_type": "code",
   "execution_count": 52,
   "id": "f55c27a4",
   "metadata": {},
   "outputs": [
    {
     "data": {
      "text/plain": [
       "23300"
      ]
     },
     "execution_count": 52,
     "metadata": {},
     "output_type": "execute_result"
    }
   ],
   "source": [
    "(y>0.00).sum()"
   ]
  },
  {
   "cell_type": "code",
   "execution_count": 54,
   "id": "4bb92529",
   "metadata": {},
   "outputs": [
    {
     "data": {
      "text/plain": [
       "((23300, 43), (23300,))"
      ]
     },
     "execution_count": 54,
     "metadata": {},
     "output_type": "execute_result"
    }
   ],
   "source": [
    "df_clean1 = df_clean[df_clean.recovery_rate>0.00]\n",
    "X = df_clean1.drop(columns=y_cols + list(df_clean.columns)[35:39])\n",
    "y = df_clean1[\"recovery_rate\"]*100 \n",
    "\n",
    "X.shape,y.shape"
   ]
  },
  {
   "cell_type": "code",
   "execution_count": 55,
   "id": "2fff784f",
   "metadata": {},
   "outputs": [
    {
     "data": {
      "text/plain": [
       "((17475, 43), (5825, 43), (17475,), (5825,))"
      ]
     },
     "execution_count": 55,
     "metadata": {},
     "output_type": "execute_result"
    }
   ],
   "source": [
    "X_train, X_test, y_train, y_test = train_test_split(X, y, test_size=0.25, random_state=42)\n",
    "X_train.shape,X_test.shape,y_train.shape,y_test.shape"
   ]
  },
  {
   "cell_type": "markdown",
   "id": "c4051de3",
   "metadata": {},
   "source": [
    "### Estimate shape of weibull for y"
   ]
  },
  {
   "cell_type": "code",
   "execution_count": 56,
   "id": "269b43b6",
   "metadata": {},
   "outputs": [
    {
     "data": {
      "text/plain": [
       "(1.1890561651969371, 0, 11.385575855882676)"
      ]
     },
     "execution_count": 56,
     "metadata": {},
     "output_type": "execute_result"
    }
   ],
   "source": [
    "rv = sc_stats.weibull_min.fit(y, floc=0)\n",
    "rv"
   ]
  },
  {
   "cell_type": "code",
   "execution_count": 57,
   "id": "f5379a79",
   "metadata": {},
   "outputs": [
    {
     "data": {
      "text/plain": [
       "array([0.06235741, 0.06556923, 0.06134987, ..., 0.03391391, 0.03842998,\n",
       "       0.03140155])"
      ]
     },
     "execution_count": 57,
     "metadata": {},
     "output_type": "execute_result"
    }
   ],
   "source": [
    "sc_stats.weibull_min.pdf(y,*rv)"
   ]
  },
  {
   "cell_type": "code",
   "execution_count": 132,
   "id": "eddba60e",
   "metadata": {},
   "outputs": [
    {
     "data": {
      "text/plain": [
       "<matplotlib.collections.PathCollection at 0x175bf9700>"
      ]
     },
     "execution_count": 132,
     "metadata": {},
     "output_type": "execute_result"
    },
    {
     "data": {
      "image/png": "[encoded data removed]",
      "text/plain": [
       "<Figure size 640x480 with 1 Axes>"
      ]
     },
     "metadata": {},
     "output_type": "display_data"
    }
   ],
   "source": [
    "plt.hist(y,alpha=0.5,density=True,bins=30,label=\"Histogram of data\")\n",
    "plt.scatter(y, sc_stats.weibull_min.pdf(y,*rv),label=\"Fitted Weibull\")"
   ]
  },
  {
   "cell_type": "code",
   "execution_count": 72,
   "id": "6269f89b",
   "metadata": {},
   "outputs": [],
   "source": [
    "k=1.2"
   ]
  },
  {
   "cell_type": "markdown",
   "id": "ea55ce58",
   "metadata": {},
   "source": [
    "### Build model"
   ]
  },
  {
   "cell_type": "code",
   "execution_count": 117,
   "id": "f8f9424f",
   "metadata": {},
   "outputs": [],
   "source": [
    "edl_model = tf.keras.Sequential([\n",
    "        tf.keras.layers.Dense(1, input_dim=X.shape[1]),\n",
    "        tf.keras.layers.Dense(128, activation=\"relu\"),\n",
    "        tf.keras.layers.Dropout(0.3),\n",
    "        tf.keras.layers.Dense(64, activation=\"relu\"),\n",
    "        tf.keras.layers.Dense(32, activation=\"relu\"),\n",
    "        tf.keras.layers.Dense(32, activation=\"relu\"),\n",
    "        loss_and_layers.DenseWeibullGamma(1),\n",
    "    ])\n",
    "\n",
    "def weibullLoss(true, pred):\n",
    "        return loss_and_layers.weibull_evidence_Regression(true, pred, k=k, coeff=1e-1)\n",
    "\n",
    "# Compile and fit the model!\n",
    "edl_model.compile(\n",
    "    optimizer=tf.keras.optimizers.Adam(1e-2),\n",
    "    loss=weibullLoss)\n",
    "    "
   ]
  },
  {
   "cell_type": "code",
   "execution_count": 118,
   "id": "f18b8514",
   "metadata": {},
   "outputs": [
    {
     "name": "stdout",
     "output_type": "stream",
     "text": [
      "Epoch 1/50\n",
      "35/35 [==============================] - 1s 3ms/step - loss: 6860882.0000\n",
      "Epoch 2/50\n",
      "35/35 [==============================] - 0s 3ms/step - loss: 12.2635\n",
      "Epoch 3/50\n",
      "35/35 [==============================] - 0s 2ms/step - loss: 11.7612\n",
      "Epoch 4/50\n",
      "35/35 [==============================] - 0s 2ms/step - loss: 11.6747\n",
      "Epoch 5/50\n",
      "35/35 [==============================] - 0s 2ms/step - loss: 11.6050\n",
      "Epoch 6/50\n",
      "35/35 [==============================] - 0s 2ms/step - loss: 11.6012\n",
      "Epoch 7/50\n",
      "35/35 [==============================] - 0s 2ms/step - loss: 11.5504\n",
      "Epoch 8/50\n",
      "35/35 [==============================] - 0s 2ms/step - loss: 11.5777\n",
      "Epoch 9/50\n",
      "35/35 [==============================] - 0s 2ms/step - loss: 11.5821\n",
      "Epoch 10/50\n",
      "35/35 [==============================] - 0s 2ms/step - loss: 11.5454\n",
      "Epoch 11/50\n",
      "35/35 [==============================] - 0s 2ms/step - loss: 11.5434\n",
      "Epoch 12/50\n",
      "35/35 [==============================] - 0s 2ms/step - loss: 11.5579\n",
      "Epoch 13/50\n",
      "35/35 [==============================] - 0s 2ms/step - loss: 11.5243\n",
      "Epoch 14/50\n",
      "35/35 [==============================] - 0s 3ms/step - loss: 11.5685\n",
      "Epoch 15/50\n",
      "35/35 [==============================] - 0s 3ms/step - loss: 11.7192\n",
      "Epoch 16/50\n",
      "35/35 [==============================] - 0s 2ms/step - loss: 12.0036\n",
      "Epoch 17/50\n",
      "35/35 [==============================] - 0s 3ms/step - loss: 11.5837\n",
      "Epoch 18/50\n",
      "35/35 [==============================] - 0s 2ms/step - loss: 11.5336\n",
      "Epoch 19/50\n",
      "35/35 [==============================] - 0s 2ms/step - loss: 11.5232\n",
      "Epoch 20/50\n",
      "35/35 [==============================] - 0s 2ms/step - loss: 11.5368\n",
      "Epoch 21/50\n",
      "35/35 [==============================] - 0s 3ms/step - loss: 11.5092\n",
      "Epoch 22/50\n",
      "35/35 [==============================] - 0s 2ms/step - loss: 11.5252\n",
      "Epoch 23/50\n",
      "35/35 [==============================] - 0s 2ms/step - loss: 11.5144\n",
      "Epoch 24/50\n",
      "35/35 [==============================] - 0s 2ms/step - loss: 11.5168\n",
      "Epoch 25/50\n",
      "35/35 [==============================] - 0s 2ms/step - loss: 11.5230\n",
      "Epoch 26/50\n",
      "35/35 [==============================] - 0s 2ms/step - loss: 11.5101\n",
      "Epoch 27/50\n",
      "35/35 [==============================] - 0s 2ms/step - loss: 11.5132\n",
      "Epoch 28/50\n",
      "35/35 [==============================] - 0s 3ms/step - loss: 11.5139\n",
      "Epoch 29/50\n",
      "35/35 [==============================] - 0s 3ms/step - loss: 11.5059\n",
      "Epoch 30/50\n",
      "35/35 [==============================] - 0s 3ms/step - loss: 11.5156\n",
      "Epoch 31/50\n",
      "35/35 [==============================] - 0s 2ms/step - loss: 11.5435\n",
      "Epoch 32/50\n",
      "35/35 [==============================] - 0s 2ms/step - loss: 11.5496\n",
      "Epoch 33/50\n",
      "35/35 [==============================] - 0s 3ms/step - loss: 11.5159\n",
      "Epoch 34/50\n",
      "35/35 [==============================] - 0s 3ms/step - loss: 11.5097\n",
      "Epoch 35/50\n",
      "35/35 [==============================] - 0s 3ms/step - loss: 11.5192\n",
      "Epoch 36/50\n",
      "35/35 [==============================] - 0s 3ms/step - loss: 11.5126\n",
      "Epoch 37/50\n",
      "35/35 [==============================] - 0s 3ms/step - loss: 11.5157\n",
      "Epoch 38/50\n",
      "35/35 [==============================] - 0s 3ms/step - loss: 11.5174\n",
      "Epoch 39/50\n",
      "35/35 [==============================] - 0s 3ms/step - loss: 11.5184\n",
      "Epoch 40/50\n",
      "35/35 [==============================] - 0s 3ms/step - loss: 11.5193\n",
      "Epoch 41/50\n",
      "35/35 [==============================] - 0s 2ms/step - loss: 11.5204\n",
      "Epoch 42/50\n",
      "35/35 [==============================] - 0s 2ms/step - loss: 11.5167\n",
      "Epoch 43/50\n",
      "35/35 [==============================] - 0s 2ms/step - loss: 11.5097\n",
      "Epoch 44/50\n",
      "35/35 [==============================] - 0s 2ms/step - loss: 11.5071\n",
      "Epoch 45/50\n",
      "35/35 [==============================] - 0s 2ms/step - loss: 11.5087\n",
      "Epoch 46/50\n",
      "35/35 [==============================] - 0s 3ms/step - loss: 11.5093\n",
      "Epoch 47/50\n",
      "35/35 [==============================] - 0s 2ms/step - loss: 11.5180\n",
      "Epoch 48/50\n",
      "35/35 [==============================] - 0s 2ms/step - loss: 11.5207\n",
      "Epoch 49/50\n",
      "35/35 [==============================] - 0s 2ms/step - loss: 11.5239\n",
      "Epoch 50/50\n",
      "35/35 [==============================] - 0s 2ms/step - loss: 11.5068\n"
     ]
    },
    {
     "data": {
      "text/plain": [
       "<keras.callbacks.History at 0x175441be0>"
      ]
     },
     "execution_count": 118,
     "metadata": {},
     "output_type": "execute_result"
    }
   ],
   "source": [
    "edl_model.fit(X_train.values[:,:], y_train.values[:], batch_size=500, epochs=50)"
   ]
  },
  {
   "cell_type": "code",
   "execution_count": 119,
   "id": "72990ac4",
   "metadata": {},
   "outputs": [
    {
     "name": "stdout",
     "output_type": "stream",
     "text": [
      "183/183 [==============================] - 0s 729us/step\n"
     ]
    }
   ],
   "source": [
    "y_pred = edl_model.predict(X_test)\n",
    "alpha,beta = y_pred[:,0],y_pred[:,1]"
   ]
  },
  {
   "cell_type": "code",
   "execution_count": 120,
   "id": "90b8f6cb",
   "metadata": {},
   "outputs": [],
   "source": [
    "from scipy.special import loggamma"
   ]
  },
  {
   "cell_type": "code",
   "execution_count": 121,
   "id": "b55bec79",
   "metadata": {},
   "outputs": [
    {
     "data": {
      "text/plain": [
       "(array([1., 1., 1., ..., 1., 1., 1.], dtype=float32),\n",
       " array([0.15397003, 0.12977953, 0.09351879, ..., 0.12186086, 0.12701651,\n",
       "        0.13640003], dtype=float32))"
      ]
     },
     "execution_count": 121,
     "metadata": {},
     "output_type": "execute_result"
    }
   ],
   "source": [
    "alpha,beta"
   ]
  },
  {
   "cell_type": "code",
   "execution_count": 122,
   "id": "aa313508",
   "metadata": {},
   "outputs": [],
   "source": [
    "mean_pred_log = loggamma((k*alpha-1)/k) - np.log(k) - ((alpha-1)/k)*np.log(beta)\n",
    "mu = np.exp(mean_pred_log)"
   ]
  },
  {
   "cell_type": "code",
   "execution_count": 123,
   "id": "39a65d3d",
   "metadata": {},
   "outputs": [
    {
     "data": {
      "text/plain": [
       "array([4.6385956, 4.6385956, 4.6385956, ..., 4.6385956, 4.6385956,\n",
       "       4.6385956], dtype=float32)"
      ]
     },
     "execution_count": 123,
     "metadata": {},
     "output_type": "execute_result"
    }
   ],
   "source": [
    "mu"
   ]
  },
  {
   "cell_type": "code",
   "execution_count": 124,
   "id": "17ac6085",
   "metadata": {},
   "outputs": [
    {
     "data": {
      "text/plain": [
       "140.22997505341613"
      ]
     },
     "execution_count": 124,
     "metadata": {},
     "output_type": "execute_result"
    }
   ],
   "source": [
    "mean_squared_error(y_test,mu)"
   ]
  },
  {
   "cell_type": "code",
   "execution_count": 125,
   "id": "9e8a28ec",
   "metadata": {},
   "outputs": [
    {
     "data": {
      "text/plain": [
       "(array([1.98014352e+03, 5.40039142e+02, 1.04007538e+03, 8.28060017e+02,\n",
       "        0.00000000e+00, 9.72070455e+02, 1.36809916e+03, 0.00000000e+00,\n",
       "        8.00057988e+02, 1.26009133e+03, 5.76041751e+02, 1.22408872e+03,\n",
       "        6.12044361e+02, 2.80020296e+02, 1.04407567e+03, 7.92057408e+02,\n",
       "        2.52018266e+02, 4.68033923e+02, 6.12044361e+02, 0.00000000e+00,\n",
       "        3.96028704e+02, 9.00065236e+02, 1.44010438e+02, 9.36067845e+02,\n",
       "        4.80034793e+02, 1.08007828e+02, 7.92057408e+02, 6.12044361e+02,\n",
       "        2.16015657e+02, 3.24023485e+02, 4.00028994e+02, 2.16015657e+02,\n",
       "        3.96028704e+02, 7.20052189e+02, 2.16015657e+02, 6.12044361e+02,\n",
       "        4.80034793e+02, 1.08007828e+02, 5.04036532e+02, 6.48046970e+02,\n",
       "        7.56054798e+02, 8.00057988e+02, 8.64062627e+02, 9.36067845e+02,\n",
       "        1.36809916e+03, 3.96028704e+02, 1.44010438e+03, 1.84013337e+03,\n",
       "        1.08007828e+03, 1.76988828e+05]),\n",
       " array([4.63836145, 4.63836622, 4.63837099, 4.63837528, 4.63838005,\n",
       "        4.63838482, 4.63838959, 4.63839436, 4.63839912, 4.63840342,\n",
       "        4.63840818, 4.63841295, 4.63841772, 4.63842249, 4.63842678,\n",
       "        4.63843155, 4.63843632, 4.63844109, 4.63844585, 4.63845062,\n",
       "        4.63845491, 4.63845968, 4.63846445, 4.63846922, 4.63847399,\n",
       "        4.63847828, 4.63848305, 4.63848782, 4.63849258, 4.63849735,\n",
       "        4.63850212, 4.63850641, 4.63851118, 4.63851595, 4.63852072,\n",
       "        4.63852549, 4.63853025, 4.63853455, 4.63853931, 4.63854408,\n",
       "        4.63854885, 4.63855362, 4.63855791, 4.63856268, 4.63856745,\n",
       "        4.63857222, 4.63857698, 4.63858175, 4.63858604, 4.63859081,\n",
       "        4.63859558]),\n",
       " <BarContainer object of 50 artists>)"
      ]
     },
     "execution_count": 125,
     "metadata": {},
     "output_type": "execute_result"
    },
    {
     "data": {
      "image/png": "[encoded data removed]",
      "text/plain": [
       "<Figure size 640x480 with 1 Axes>"
      ]
     },
     "metadata": {},
     "output_type": "display_data"
    }
   ],
   "source": [
    "plt.hist(mu,bins=50,density=True)"
   ]
  },
  {
   "cell_type": "code",
   "execution_count": null,
   "id": "3c5a04e0",
   "metadata": {},
   "outputs": [],
   "source": []
  },
  {
   "cell_type": "code",
   "execution_count": null,
   "id": "6bdedee0",
   "metadata": {},
   "outputs": [],
   "source": []
  },
  {
   "cell_type": "code",
   "execution_count": 69,
   "id": "2985b938",
   "metadata": {},
   "outputs": [
    {
     "name": "stdout",
     "output_type": "stream",
     "text": [
      "183/183 [==============================] - 0s 1ms/step\n"
     ]
    },
    {
     "data": {
      "text/plain": [
       "array([[1.7279198e+17, 1.6998290e+17],\n",
       "       [1.9909627e+17, 1.9585956e+17],\n",
       "       [2.5875091e+17, 2.5454440e+17],\n",
       "       ...,\n",
       "       [2.1160929e+17, 2.0816916e+17],\n",
       "       [1.9598071e+17, 1.9279466e+17],\n",
       "       [1.7157451e+17, 1.6878522e+17]], dtype=float32)"
      ]
     },
     "execution_count": 69,
     "metadata": {},
     "output_type": "execute_result"
    }
   ],
   "source": [
    "edl_model.predict(X_test)"
   ]
  },
  {
   "cell_type": "code",
   "execution_count": null,
   "id": "44cb3d7d",
   "metadata": {},
   "outputs": [],
   "source": []
  },
  {
   "cell_type": "code",
   "execution_count": null,
   "id": "02816c99",
   "metadata": {},
   "outputs": [],
   "source": []
  },
  {
   "cell_type": "code",
   "execution_count": null,
   "id": "fbb03cb5",
   "metadata": {},
   "outputs": [],
   "source": []
  },
  {
   "cell_type": "code",
   "execution_count": null,
   "id": "bce1f8a2",
   "metadata": {},
   "outputs": [],
   "source": []
  },
  {
   "cell_type": "code",
   "execution_count": null,
   "id": "bebf9be6",
   "metadata": {},
   "outputs": [],
   "source": []
  },
  {
   "cell_type": "code",
   "execution_count": null,
   "id": "34adb4b0",
   "metadata": {},
   "outputs": [],
   "source": []
  },
  {
   "cell_type": "code",
   "execution_count": null,
   "id": "a6702f9f",
   "metadata": {},
   "outputs": [],
   "source": [
    "y_test"
   ]
  },
  {
   "cell_type": "code",
   "execution_count": null,
   "id": "ddee0438",
   "metadata": {},
   "outputs": [],
   "source": []
  },
  {
   "cell_type": "code",
   "execution_count": null,
   "id": "1a5a8d7a",
   "metadata": {},
   "outputs": [],
   "source": [
    "weibullLoss(y_test,edl_model.predict(X_test))"
   ]
  },
  {
   "cell_type": "code",
   "execution_count": 21,
   "id": "27896eb0",
   "metadata": {},
   "outputs": [
    {
     "name": "stdout",
     "output_type": "stream",
     "text": [
      "320/320 [==============================] - 0s 694us/step\n"
     ]
    },
    {
     "data": {
      "text/plain": [
       "array([[1.108159  , 0.1165923 ],\n",
       "       [1.1039628 , 0.1122489 ],\n",
       "       [1.0514863 , 0.05717027],\n",
       "       ...,\n",
       "       [1.0977554 , 0.10580984],\n",
       "       [1.0489044 , 0.05441312],\n",
       "       [1.0936749 , 0.10156785]], dtype=float32)"
      ]
     },
     "execution_count": 21,
     "metadata": {},
     "output_type": "execute_result"
    }
   ],
   "source": [
    "edl_model.predict(X_test)"
   ]
  }
 ],
 "metadata": {
  "kernelspec": {
   "display_name": "Python 3 (ipykernel)",
   "language": "python",
   "name": "python3"
  },
  "language_info": {
   "codemirror_mode": {
    "name": "ipython",
    "version": 3
   },
   "file_extension": ".py",
   "mimetype": "text/x-python",
   "name": "python",
   "nbconvert_exporter": "python",
   "pygments_lexer": "ipython3",
   "version": "3.9.16"
  }
 },
 "nbformat": 4,
 "nbformat_minor": 5
}
